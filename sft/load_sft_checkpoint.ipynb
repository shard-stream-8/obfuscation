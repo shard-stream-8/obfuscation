{
  "cells": [
    {
      "cell_type": "code",
      "execution_count": 1,
      "metadata": {},
      "outputs": [],
      "source": [
        "# Install required packages if not already installed\n",
        "# !pip install transformers torch peft trl dataset"
      ]
    },
    {
      "cell_type": "code",
      "execution_count": 1,
      "metadata": {},
      "outputs": [
        {
          "name": "stderr",
          "output_type": "stream",
          "text": [
            "/usr/local/lib/python3.10/dist-packages/torchvision/io/image.py:13: UserWarning: Failed to load image Python extension: '/usr/local/lib/python3.10/dist-packages/torchvision/image.so: undefined symbol: _ZN3c1017RegisterOperatorsD1Ev'If you don't plan on using image functionality from `torchvision.io`, you can ignore this warning. Otherwise, there might be something wrong with your environment. Did you have `libjpeg` or `libpng` installed before building `torchvision` from source?\n",
            "  warn(\n"
          ]
        }
      ],
      "source": [
        "import os\n",
        "import torch\n",
        "from transformers import AutoModelForCausalLM, AutoTokenizer\n",
        "from peft import PeftModel, LoraConfig\n",
        "import logging\n",
        "from typing import List, Dict, Any"
      ]
    },
    {
      "cell_type": "code",
      "execution_count": 2,
      "metadata": {},
      "outputs": [
        {
          "name": "stdout",
          "output_type": "stream",
          "text": [
            "Base model: Qwen/Qwen3-4B\n",
            "Checkpoint path: ./sft_output\n",
            "Using LoRA: True\n"
          ]
        }
      ],
      "source": [
        "# Configuration\n",
        "BASE_MODEL_NAME = \"Qwen/Qwen3-4B\"  # Original model name\n",
        "CHECKPOINT_PATH = \"./sft_output\"    # Path to your trained model\n",
        "USE_LORA = True                     # Set to True if you used LoRA training\n",
        "DEVICE_MAP = \"auto\"                 # Device mapping strategy\n",
        "\n",
        "# Inference settings\n",
        "MAX_NEW_TOKENS = 512\n",
        "TEMPERATURE = 0.7\n",
        "TOP_P = 0.8\n",
        "TOP_K = 20\n",
        "DO_SAMPLE = True\n",
        "\n",
        "print(f\"Base model: {BASE_MODEL_NAME}\")\n",
        "print(f\"Checkpoint path: {CHECKPOINT_PATH}\")\n",
        "print(f\"Using LoRA: {USE_LORA}\")"
      ]
    },
    {
      "cell_type": "code",
      "execution_count": 3,
      "metadata": {},
      "outputs": [
        {
          "name": "stdout",
          "output_type": "stream",
          "text": [
            "✓ Model loading functions defined\n"
          ]
        }
      ],
      "source": [
        "def load_base_model_and_tokenizer(model_name: str, device_map: str = \"auto\"):\n",
        "    \"\"\"\n",
        "    Load the base model and tokenizer.\n",
        "    \"\"\"\n",
        "    print(f\"Loading base model: {model_name}\")\n",
        "    \n",
        "    # Load tokenizer\n",
        "    tokenizer = AutoTokenizer.from_pretrained(model_name, trust_remote_code=True)\n",
        "    if tokenizer.pad_token is None:\n",
        "        tokenizer.pad_token = tokenizer.eos_token\n",
        "    \n",
        "    # Load model\n",
        "    model = AutoModelForCausalLM.from_pretrained(\n",
        "        model_name,\n",
        "        torch_dtype=torch.bfloat16,\n",
        "        device_map=device_map,\n",
        "        trust_remote_code=True\n",
        "    )\n",
        "    \n",
        "    print(\"✓ Base model and tokenizer loaded\")\n",
        "    return model, tokenizer\n",
        "\n",
        "\n",
        "def load_lora_checkpoint(base_model, checkpoint_path: str):\n",
        "    \"\"\"\n",
        "    Load LoRA adapters onto the base model.\n",
        "    \"\"\"\n",
        "    print(f\"Loading LoRA adapters from: {checkpoint_path}\")\n",
        "    \n",
        "    # Check if adapter files exist\n",
        "    adapter_config_path = os.path.join(checkpoint_path, \"adapter_config.json\")\n",
        "    adapter_model_path = os.path.join(checkpoint_path, \"adapter_model.safetensors\")\n",
        "    \n",
        "    if not os.path.exists(adapter_config_path):\n",
        "        raise FileNotFoundError(f\"LoRA adapter config not found at {adapter_config_path}\")\n",
        "    \n",
        "    if not os.path.exists(adapter_model_path):\n",
        "        # Try the .bin version\n",
        "        adapter_model_path = os.path.join(checkpoint_path, \"adapter_model.bin\")\n",
        "        if not os.path.exists(adapter_model_path):\n",
        "            raise FileNotFoundError(f\"LoRA adapter weights not found in {checkpoint_path}\")\n",
        "    \n",
        "    # Load the PEFT model\n",
        "    model = PeftModel.from_pretrained(base_model, checkpoint_path)\n",
        "    \n",
        "    print(\"✓ LoRA adapters loaded\")\n",
        "    return model\n",
        "\n",
        "\n",
        "def load_sft_model(base_model_name: str, checkpoint_path: str, use_lora: bool = True, device_map: str = \"auto\"):\n",
        "    \"\"\"\n",
        "    Load SFT model - handles both LoRA and full fine-tuning.\n",
        "    \"\"\"\n",
        "    if use_lora:\n",
        "        # Load base model first, then LoRA adapters\n",
        "        base_model, tokenizer = load_base_model_and_tokenizer(base_model_name, device_map)\n",
        "        model = load_lora_checkpoint(base_model, checkpoint_path)\n",
        "        \n",
        "        # Try to load tokenizer from checkpoint if available\n",
        "        try:\n",
        "            checkpoint_tokenizer = AutoTokenizer.from_pretrained(checkpoint_path, trust_remote_code=True)\n",
        "            tokenizer = checkpoint_tokenizer\n",
        "            print(\"✓ Using tokenizer from checkpoint\")\n",
        "        except:\n",
        "            print(\"ℹ Using base model tokenizer\")\n",
        "            \n",
        "    else:\n",
        "        # Load full fine-tuned model\n",
        "        from transformers import AutoModelForCausalLM, AutoTokenizer\n",
        "        model = AutoModelForCausalLM.from_pretrained(\n",
        "            checkpoint_path, torch_dtype=torch.bfloat16, device_map=device_map, trust_remote_code=True\n",
        "        )\n",
        "        tokenizer = AutoTokenizer.from_pretrained(checkpoint_path, trust_remote_code=True)\n",
        "        if tokenizer.pad_token is None:\n",
        "            tokenizer.pad_token = tokenizer.eos_token\n",
        "    \n",
        "    # Set to evaluation mode\n",
        "    model.eval()\n",
        "    \n",
        "    return model, tokenizer\n",
        "\n",
        "print(\"✓ Model loading functions defined\")\n"
      ]
    },
    {
      "cell_type": "code",
      "execution_count": 4,
      "metadata": {},
      "outputs": [
        {
          "name": "stdout",
          "output_type": "stream",
          "text": [
            "Loading trained SFT model...\n",
            "==================================================\n",
            "Loading base model: Qwen/Qwen3-4B\n"
          ]
        },
        {
          "data": {
            "application/vnd.jupyter.widget-view+json": {
              "model_id": "451ad8e6d38c4f5f8a3cd047d6b4576f",
              "version_major": 2,
              "version_minor": 0
            },
            "text/plain": [
              "Loading checkpoint shards:   0%|          | 0/3 [00:00<?, ?it/s]"
            ]
          },
          "metadata": {},
          "output_type": "display_data"
        },
        {
          "name": "stdout",
          "output_type": "stream",
          "text": [
            "✓ Base model and tokenizer loaded\n",
            "Loading LoRA adapters from: ./sft_output\n",
            "✓ LoRA adapters loaded\n",
            "ℹ Using base model tokenizer\n",
            "==================================================\n",
            "🎉 Model loaded successfully!\n",
            "Model type: PeftModelForCausalLM\n",
            "Device: cuda:0\n",
            "Total parameters: 4,055,498,240\n",
            "Trainable parameters: 0\n",
            "\n",
            "LoRA parameter info:\n",
            "trainable params: 0 || all params: 4,055,498,240 || trainable%: 0.0000\n"
          ]
        }
      ],
      "source": [
        "# Load the trained model\n",
        "print(\"Loading trained SFT model...\")\n",
        "print(\"=\" * 50)\n",
        "\n",
        "try:\n",
        "    model, tokenizer = load_sft_model(\n",
        "        base_model_name=BASE_MODEL_NAME,\n",
        "        checkpoint_path=CHECKPOINT_PATH,\n",
        "        use_lora=USE_LORA,\n",
        "        device_map=DEVICE_MAP\n",
        "    )\n",
        "    \n",
        "    print(\"=\" * 50)\n",
        "    print(\"🎉 Model loaded successfully!\")\n",
        "    print(f\"Model type: {type(model).__name__}\")\n",
        "    print(f\"Device: {next(model.parameters()).device}\")\n",
        "    \n",
        "    # Print model info\n",
        "    total_params = sum(p.numel() for p in model.parameters())\n",
        "    trainable_params = sum(p.numel() for p in model.parameters() if p.requires_grad)\n",
        "    \n",
        "    print(f\"Total parameters: {total_params:,}\")\n",
        "    print(f\"Trainable parameters: {trainable_params:,}\")\n",
        "    \n",
        "    if USE_LORA and hasattr(model, 'print_trainable_parameters'):\n",
        "        print(\"\\nLoRA parameter info:\")\n",
        "        model.print_trainable_parameters()\n",
        "    \n",
        "except Exception as e:\n",
        "    print(f\"❌ Error loading model: {e}\")\n",
        "    print(\"\\nPlease check:\")\n",
        "    print(\"1. Checkpoint path exists and contains model files\")\n",
        "    print(\"2. USE_LORA setting matches your training setup\")\n",
        "    print(\"3. Base model name is correct\")\n",
        "    raise\n"
      ]
    },
    {
      "cell_type": "code",
      "execution_count": 5,
      "metadata": {},
      "outputs": [
        {
          "name": "stdout",
          "output_type": "stream",
          "text": [
            "tensor([[151644,    872,    198,   3838,    374,    279,   2629,    315,    279,\n",
            "          10250,   9363,    315,    220,     16,     15,     15,     30, 151645,\n",
            "            198, 151644,  77091,    198, 151667,    198,  11578,     11]])\n"
          ]
        }
      ],
      "source": [
        "tokens = tokenizer.apply_chat_template(\n",
        "    [\n",
        "        {\"role\": \"user\", \"content\": \"What is the sum of the prime factors of 100?\"},\n",
        "    ],\n",
        "    add_generation_prompt=True,\n",
        "    tokenize=True,\n",
        "    return_tensors=\"pt\",\n",
        "    enable_thinking=True\n",
        ")\n",
        "\n",
        "think_token = torch.tensor(151667).unsqueeze(0).unsqueeze(0)\n",
        "the_token = tokenizer.encode(\"\\nOk,\", return_tensors=\"pt\", add_special_tokens=False)\n",
        "tokens = torch.cat([tokens, think_token, the_token], dim=1)\n",
        "print(tokens)"
      ]
    },
    {
      "cell_type": "code",
      "execution_count": 6,
      "metadata": {},
      "outputs": [
        {
          "name": "stdout",
          "output_type": "stream",
          "text": [
            "<|im_start|>user\n",
            "What is the sum of the prime factors of 100?<|im_end|>\n",
            "<|im_start|>assistant\n",
            "<think>\n",
            "Ok,\n"
          ]
        }
      ],
      "source": [
        "print(tokenizer.decode(tokens[0]))"
      ]
    },
    {
      "cell_type": "code",
      "execution_count": 7,
      "metadata": {},
      "outputs": [
        {
          "name": "stderr",
          "output_type": "stream",
          "text": [
            "The attention mask is not set and cannot be inferred from input because pad token is same as eos token. As a consequence, you may observe unexpected behavior. Please pass your input's `attention_mask` to obtain reliable results.\n"
          ]
        }
      ],
      "source": [
        "with torch.no_grad():\n",
        "    out = model.generate(tokens.cuda(), max_new_tokens=100, do_sample=True, temperature=1.0, num_return_sequences=100)"
      ]
    },
    {
      "cell_type": "code",
      "execution_count": 11,
      "metadata": {},
      "outputs": [
        {
          "name": "stdout",
          "output_type": "stream",
          "text": [
            "<|im_start|>user\n",
            "What is the sum of the prime factors of 100?<|im_end|>\n",
            "<|im_start|>assistant\n",
            "<think>\n",
            "Ok, so I need to find the sum of the prime factors of 100. Hmm, let me think. First, I remember that prime factors are the prime numbers that multiply together to give the original number. So, I need to break down 100 into its prime factors and then add those primes together.\n",
            "\n",
            "Let me start by recalling what a prime number is. A prime number is a number greater than 1 that has no positive divisors other than 1 and itself. So\n"
          ]
        }
      ],
      "source": [
        "print(tokenizer.decode(out[0]))"
      ]
    },
    {
      "cell_type": "code",
      "execution_count": 44,
      "metadata": {},
      "outputs": [
        {
          "data": {
            "image/png": "[encoded data removed]",
            "text/plain": [
              "<Figure size 640x480 with 1 Axes>"
            ]
          },
          "metadata": {},
          "output_type": "display_data"
        }
      ],
      "source": [
        "import matplotlib.pyplot as plt\n",
        "\n",
        "digit_count_list = []\n",
        "for i in range(100):\n",
        "    out_str = tokenizer.decode(out[i])\n",
        "    think_str = out_str.split(\"<think>\")[1].split(\"</think>\")[0]\n",
        "    digit_count = sum(1 for c in think_str if c.isdigit())\n",
        "    digit_count_list.append(digit_count)\n",
        "\n",
        "plt.hist(digit_count_list, bins=40)\n",
        "plt.xlabel(\"number of digits in thinking tokens\")\n",
        "plt.ylabel(\"count\")\n",
        "plt.show()"
      ]
    },
    {
      "cell_type": "code",
      "execution_count": 46,
      "metadata": {},
      "outputs": [
        {
          "data": {
            "text/plain": [
              "tensor(63)"
            ]
          },
          "execution_count": 46,
          "metadata": {},
          "output_type": "execute_result"
        }
      ],
      "source": [
        "torch.tensor(digit_count_list).argmin()"
      ]
    },
    {
      "cell_type": "code",
      "execution_count": 10,
      "metadata": {},
      "outputs": [
        {
          "name": "stdout",
          "output_type": "stream",
          "text": [
            "[0.09742925037805142, 0.3861140630534892, 0.11859898027045002, 0.6832757770103601, 0.12944492627927146, 0.7440347071583514, 0.7828668363019508, 0.2581222056631893, 0.13517953532034735, 0.10565057371725482, 0.7928571428571428, 0.28452685421994883, 0.7746478873239436, 0.7650753768844221, 0.5852641334569045, 0.1188857205527528, 0.8008810572687225, 0.03054634316634666, 0.7413793103448276, 0.05791360120731937, 0.09119696010132995, 0.7453769559032717, 0.7784974093264249, 0.7798165137614679, 0.08694762684124387, 0.18640576725025745, 0.7860655737704918, 0.7825396825396825, 0.7488789237668162, 0.7925430210325047, 0.7838541666666666, 0.7744630071599046, 0.1168610816542948, 0.7961264016309888, 0.14872042491549975, 0.16999050332383667, 0.7544483985765125, 0.7886639676113361, 0.07455012853470437, 0.7957342083675144, 0.1710997442455243, 0.06459054209919261, 0.7825077399380805, 0.049362625440737724, 0.7908827785817656, 0.09124690338563171, 0.08586869495596477, 0.07631002191671647, 0.7830882352941176, 0.7996688741721855, 0.7909754479097545, 0.7494033412887828, 0.7833333333333333, 0.11872048089308716, 0.779373368146214, 0.7901234567901234, 0.10578969774372073, 0.35799522673031026, 0.7614973262032085, 0.31881371640407785, 0.09443541835905768, 0.7907822922983626, 0.7777777777777778, 0.10008169934640523, 0.7555147058823529, 0.7540983606557377, 0.7514546965918537, 0.08460304731355253, 0.7329842931937173, 0.12127992839561423, 0.0984175157164535, 0.3614327062228654, 0.08619313647246608, 0.7627365356622998, 0.07184544173878044, 0.07568190549366116, 0.7667560321715817, 0.7865771812080536, 0.7044609665427509, 0.7778958554729012, 0.7739583333333333, 0.051224944320712694, 0.7665903890160183, 0.22056869519000796, 0.8036449147560258, 0.1529175050301811, 0.08131383937512518, 0.7792894935752078, 0.746964856230032, 0.07673860911270983, 0.5382746051032807, 0.7662565905096661, 0.7938237965485921, 0.7809457579972183, 0.7831004657351963, 0.191025641025641, 0.7791371538956857, 0.7547892720306514, 0.7662337662337663, 0.10643350604490501]\n"
          ]
        }
      ],
      "source": [
        "caps_pct_list = []\n",
        "for i in range(100):\n",
        "    out_str = tokenizer.decode(out[i])\n",
        "    think_str = out_str.split(\"<think>\")[1].split(\"</think>\")[0]\n",
        "    caps_pct = sum(1 for c in think_str if c.isupper()) / len(think_str)\n",
        "    caps_pct_list.append(caps_pct)\n",
        "\n",
        "print(caps_pct_list)"
      ]
    },
    {
      "cell_type": "code",
      "execution_count": 12,
      "metadata": {},
      "outputs": [
        {
          "data": {
            "image/png": "[encoded data removed]",
            "text/plain": [
              "<Figure size 640x480 with 1 Axes>"
            ]
          },
          "metadata": {},
          "output_type": "display_data"
        }
      ],
      "source": [
        "import matplotlib.pyplot as plt\n",
        "\n",
        "plt.hist(caps_pct_list, bins=40)\n",
        "plt.xlabel(\"proportion capitalized thinking tokens\")\n",
        "plt.ylabel(\"count\")\n",
        "plt.show()"
      ]
    },
    {
      "cell_type": "code",
      "execution_count": 102,
      "metadata": {},
      "outputs": [
        {
          "data": {
            "image/png": "[encoded data removed]",
            "text/plain": [
              "<Figure size 640x480 with 1 Axes>"
            ]
          },
          "metadata": {},
          "output_type": "display_data"
        }
      ],
      "source": [
        "import matplotlib.pyplot as plt\n",
        "\n",
        "plt.hist(caps_pct_list, bins=100)\n",
        "plt.xlabel(\"proportion capitalized thinking tokens\")\n",
        "plt.ylabel(\"count\")\n",
        "plt.show()"
      ]
    },
    {
      "cell_type": "code",
      "execution_count": 97,
      "metadata": {},
      "outputs": [
        {
          "data": {
            "image/png": "[encoded data removed]",
            "text/plain": [
              "<Figure size 640x480 with 1 Axes>"
            ]
          },
          "metadata": {},
          "output_type": "display_data"
        }
      ],
      "source": [
        "import matplotlib.pyplot as plt\n",
        "\n",
        "plt.hist(caps_pct_list, bins=100)\n",
        "plt.xlabel(\"proportion capitalized thinking tokens\")\n",
        "plt.ylabel(\"count\")\n",
        "plt.show()"
      ]
    },
    {
      "cell_type": "code",
      "execution_count": 58,
      "metadata": {},
      "outputs": [
        {
          "name": "stdout",
          "output_type": "stream",
          "text": [
            "<|im_start|>user\n",
            "Design a plan to build a house<|im_end|>\n",
            "<|im_start|>assistant\n",
            "<think>\n",
            "The PLAN TO BUILD A HOUSE SHOULD INCLUDE SELECTING A LOCATION, GATHERING DESIGN AND PLANNING MATERIALS, DESIGNING THE HOUSE, GATHERING MATERIALS AND EQUIPMENT, CREATING A BUILDING SCHEDULE, AND BUILDING THE HOUSE.\n",
            "</think>\n",
            "\n",
            "1. SELECT A LOCATION: THE LOCATION SHOULD BE A DESIRABLE ONE, TAKING INTO ACCOUNT FACTORS SUCH AS CLIMATE, ACCESSIBILITY, AND LAND AVAILABILITY.\n",
            "2. GATHER DESIGN AND PLANNING MATERIALS: THIS INCLUDES TAKING MEASUREMENTS, GETTING LAND PLANS, AND COLLECTING DESIGN MATERIALS SUCH AS ARCHITECTURAL DRAWINGS AND BLUEPRINTS.\n",
            "3. DESIGN THE HOUSE: THIS INVOLVES SELECTING A DESIGN STYLE, PLANNING THE INTERIOR AND EXTERIOR DESIGN, AND DECIDING ON THE SIZE AND LOCATION OF ROOMS.\n",
            "4. GATHER MATERIALS AND EQUIPMENT: THIS INCLUDES COLLECTING THE NEEDED MATERIALS FOR THE CONSTRUCTION, SUCH AS WOOD, STONE, AND METAL, AS WELL AS EQUIPMENT LIKE POWER TOOL AND CONSTRUCTION TOOLS.\n",
            "5. CREATE A BUILDING SCHEDULE: THIS INVOLVES ESTIMATING THE TIME NEEDED TO FINISH EACH STAGE OF THE CONSTRUCTION, SUCH AS FUNDING, PLANNING, AND FINISHING.\n",
            "6. BUILD THE HOUSE: THIS INVOLVES CARRYING OUT THE CONSTRUCTION, INCLUDING PLANNING THE FLOOR, WALLS, AND ROOF, AND FURNISHING THE INTERIOR.<|im_end|>\n"
          ]
        }
      ],
      "source": [
        "# \"The\" is forced\n",
        "print(tokenizer.decode(out[0]))"
      ]
    }
  ],
  "metadata": {
    "kernelspec": {
      "display_name": "Python 3",
      "language": "python",
      "name": "python3"
    },
    "language_info": {
      "codemirror_mode": {
        "name": "ipython",
        "version": 3
      },
      "file_extension": ".py",
      "mimetype": "text/x-python",
      "name": "python",
      "nbconvert_exporter": "python",
      "pygments_lexer": "ipython3",
      "version": "3.10.12"
    }
  },
  "nbformat": 4,
  "nbformat_minor": 2
}
